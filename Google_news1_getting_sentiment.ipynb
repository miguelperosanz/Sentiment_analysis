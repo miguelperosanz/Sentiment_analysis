{
 "cells": [
  {
   "cell_type": "code",
   "execution_count": 1,
   "metadata": {},
   "outputs": [
    {
     "name": "stdout",
     "output_type": "stream",
     "text": [
      "01/01/2018\n",
      "[\"Japan's GDP Grows Due to Bitcoin Wealth Effect | Finance ...\", 'Q&A: How is the growth of bitcoin affecting the environment?', 'Bitcoin fever to burn out in ‘spectacular crash,’ David Stockman warned', \"'Privacy Coin' Verge is Allegedly Leaking Users' IP Addresses | Altcoins\", 'Buying—and Selling—Property with Bitcoin', 'Ripple was the best-performing cryptocurrency of 2017, beating bitcoin', 'The Illogical Value Proposition Of Bitcoin', \"Bitcoin's gender divide could be a bad sign, experts say\", 'Bitcoin Adoption by Businesses in 2017', \"Japan's GDP Grows Due to Bitcoin Wealth Effect | Finance ...\", 'Q&A: How is the growth of bitcoin affecting the environment?', 'Bitcoin fever to burn out in ‘spectacular crash,’ David Stockman warned', \"'Privacy Coin' Verge is Allegedly Leaking Users' IP Addresses | Altcoins\", 'Buying—and Selling—Property with Bitcoin', 'Ripple was the best-performing cryptocurrency of 2017, beating bitcoin', 'The Illogical Value Proposition Of Bitcoin', \"Bitcoin's gender divide could be a bad sign, experts say\", 'Bitcoin Adoption by Businesses in 2017']\n",
      "01/02/2018\n",
      "['Ewald Notwotny über Bitcoin: \"Hilft Kriminellen\"', \"Egypt's Grand Mufti endorses Bitcoin trading ban\", 'Bitcoin’s dominance of the cryptocurrency market is at its lowest level ever', 'How is bitcoin affecting the environment?', 'Bitcoin mania: What the big names of finance are saying', 'Criminals drop bitcoin for harder-to-track digital currency', 'Speculators raised net short bitcoin positions in Dec 26 week: CFTC', 'Bitcoin Adoption in Africa Hinders EAC Plans for a Unified ...', 'Bitcoin Billionaires Hiding in Plain Sight', 'Gibraltar Launches Regulation to Protect Cryptocurrency Value and Reputation | Regulation', 'Ewald Notwotny über Bitcoin: \"Hilft Kriminellen\"', \"Egypt's Grand Mufti endorses Bitcoin trading ban\", 'Bitcoin’s dominance of the cryptocurrency market is at its lowest level ever', 'How is bitcoin affecting the environment?', 'Bitcoin mania: What the big names of finance are saying', 'Criminals drop bitcoin for harder-to-track digital currency', 'Speculators raised net short bitcoin positions in Dec 26 week: CFTC', 'Bitcoin Adoption in Africa Hinders EAC Plans for a Unified ...', 'Bitcoin Billionaires Hiding in Plain Sight', 'Gibraltar Launches Regulation to Protect Cryptocurrency Value and Reputation | Regulation']\n",
      "01/03/2018\n",
      "['Bitcoin may be king, but Ripple dark horse in crypto race', 'Bitcoin’s first block was mined 9 years ago today, the reward was 50BTC', 'Why Bitcoin Is the Most Dangerous Global Scam in 20 Years', 'This Is Your Guide to Buying Bitcoin', 'Forks in the Road: 2017 Bitcoin Forks', \"China central bank can tell local governments to regulate bitcoin miners' power use: source\", 'Paypal founder and early Facebook investor Peter Thiel bets big on Bitcoins', 'FanDuel Presents the Bitcoin Bowl', 'ECB warns of financial stability risks from bitcoin trading', 'Bitcoin Mining ICO Giga Watt is Being Sued for Securities Fraud', 'Bitcoin may be king, but Ripple dark horse in crypto race', 'Bitcoin’s first block was mined 9 years ago today, the reward was 50BTC', 'Why Bitcoin Is the Most Dangerous Global Scam in 20 Years', 'This Is Your Guide to Buying Bitcoin', 'Forks in the Road: 2017 Bitcoin Forks', \"China central bank can tell local governments to regulate bitcoin miners' power use: source\", 'Paypal founder and early Facebook investor Peter Thiel bets big on Bitcoins', 'FanDuel Presents the Bitcoin Bowl', 'ECB warns of financial stability risks from bitcoin trading', 'Bitcoin Mining ICO Giga Watt is Being Sued for Securities Fraud']\n",
      "01/04/2018\n",
      "[\"Ripple Gateways Can Freeze Users' Funds at Any Time ...\", \"What's Blowing Up the Bitcoin Bubble?\", 'Buying—and Selling—Property with Bitcoin', 'Investor who called last two major market crashes says bitcoin is a bubble', 'China Clamps Down on Preferential Treatment for Bitcoin Mines', 'Bitconnect Slapped with Securities Emergency Cease and ...', 'SEC warns bitcoin, cryptocurrency investors at risk', 'Binance Exchange Disables New User Registrations | Markets ...', 'Japan: The New Heart of Bitcoin - CoinDesk', 'These Dutch Researchers Are Mining Cryptocurrencies With Body Heat | Sharing economy', \"Ripple Gateways Can Freeze Users' Funds at Any Time ...\", \"What's Blowing Up the Bitcoin Bubble?\", 'Buying—and Selling—Property with Bitcoin', 'Investor who called last two major market crashes says bitcoin is a bubble', 'China Clamps Down on Preferential Treatment for Bitcoin Mines', 'Bitconnect Slapped with Securities Emergency Cease and ...', 'SEC warns bitcoin, cryptocurrency investors at risk', 'Binance Exchange Disables New User Registrations | Markets ...', 'Japan: The New Heart of Bitcoin - CoinDesk', 'These Dutch Researchers Are Mining Cryptocurrencies With Body Heat | Sharing economy']\n",
      "01/05/2018\n",
      "['Bitcoin Might Be A Bubble, But It Still May Change The World', 'Episode 816: Bitcoin Losers : Planet Money', 'Bitcoin not a legal tender, not a recognised medium of exchange, says Jaitley', 'Ripple Steals Bitcoin’s Thunder, Surges 1,135% in a Month', 'Crypto Debit Card Providers Hit After Visa Cuts Ties With Issuer - CoinDesk', 'Millionaires are stashing their bitcoin fortunes in a fortified bunker under a Swiss mountain', 'RSK Mines Its Genesis Block - Bitcoin Now Has an Ethereum-Like Smart Contracts Platform | Smart Contracts', 'Bitcoin miners are reportedly fleeing China because it is cracking down on cryptocurrencies', 'This graph shows just how popular Bitcoin is in South Africa', 'Report Reveals 18% of Investors Buy Bitcoin With Borrowed Money | Finance', 'Bitcoin Might Be A Bubble, But It Still May Change The World', 'Episode 816: Bitcoin Losers : Planet Money', 'Bitcoin not a legal tender, not a recognised medium of exchange, says Jaitley', 'Ripple Steals Bitcoin’s Thunder, Surges 1,135% in a Month', 'Crypto Debit Card Providers Hit After Visa Cuts Ties With Issuer - CoinDesk', 'Millionaires are stashing their bitcoin fortunes in a fortified bunker under a Swiss mountain', 'RSK Mines Its Genesis Block - Bitcoin Now Has an Ethereum-Like Smart Contracts Platform | Smart Contracts', 'Bitcoin miners are reportedly fleeing China because it is cracking down on cryptocurrencies', 'This graph shows just how popular Bitcoin is in South Africa', 'Report Reveals 18% of Investors Buy Bitcoin With Borrowed Money | Finance']\n",
      "01/06/2018\n",
      "['If the NYSE has its way, a risky leveraged ETF which doubles the return of bitcoin could soon hit the market', 'How I fell for the blockchain gold rush', 'Former Iced Tea Firm Plans to Mine Bitcoin in the Nordic Region', 'Breaking Bitcoin With a Quantum Computer', 'David McWilliams: The crash was foreseeable. The rapid recovery wasn’t', 'If the NYSE has its way, a risky leveraged ETF which doubles the return of bitcoin could soon hit the market', 'How I fell for the blockchain gold rush', 'Former Iced Tea Firm Plans to Mine Bitcoin in the Nordic Region', 'Breaking Bitcoin With a Quantum Computer', 'David McWilliams: The crash was foreseeable. The rapid recovery wasn’t']\n",
      "01/07/2018\n",
      "['Study: 22% of Bitcoin Investors Used Borrowed Money For Trading, Not Recommended', 'China wants an “orderly exit” from bitcoin mining', 'Seven More Lies Bitcoin (And Altcoin) Fans Tell Themselves', 'What You Need to Know About Bitcoin Funds', 'Study: 22% of Bitcoin Investors Used Borrowed Money For Trading, Not Recommended', 'China wants an “orderly exit” from bitcoin mining', 'Seven More Lies Bitcoin (And Altcoin) Fans Tell Themselves', 'What You Need to Know About Bitcoin Funds']\n",
      "01/08/2018\n",
      "[\"The future of finance? A look at bitcoin's boom and how ...\", 'Forget Bitcoin - now Dogecoin goes wild', 'South Korea to Cooperate with China and Japan on Regulation | Regulation', \"Bitcoins Should Be Called BTUcoins, and That's a Problem\", \"Bitcoin is an asset, not a currency - Israel's central bank\", \"New 'insane' ETF proposal for bitcoin generates worry on Wall Street\", 'Bitcoin - It’s Big in Japan', 'China is reportedly moving to clamp down on bitcoin miners', \"Why African millennials can't get enough of Bitcoin\", 'Electrum Moves to Patch Bug That Left Thousands of Bitcoin Wallets Exposed | Security', \"The future of finance? A look at bitcoin's boom and how ...\", 'Forget Bitcoin - now Dogecoin goes wild', 'South Korea to Cooperate with China and Japan on Regulation | Regulation', \"Bitcoins Should Be Called BTUcoins, and That's a Problem\", \"Bitcoin is an asset, not a currency - Israel's central bank\", \"New 'insane' ETF proposal for bitcoin generates worry on Wall Street\", 'Bitcoin - It’s Big in Japan', 'China is reportedly moving to clamp down on bitcoin miners', \"Why African millennials can't get enough of Bitcoin\", 'Electrum Moves to Patch Bug That Left Thousands of Bitcoin Wallets Exposed | Security']\n",
      "01/09/2018\n"
     ]
    },
    {
     "name": "stdout",
     "output_type": "stream",
     "text": [
      "['CES 2018: Kodak soars on KodakCoin and Bitcoin mining plans', \"JP Morgan's Jamie Dimon Regrets his ”Bitcoin is a Fraud ...\", \"Dimon Says He Regrets Calling Bitcoin a 'Fraud'\", 'Jamie Dimon says he regrets calling bitcoin a fraud and believes in the technology behind it', 'South Korea clampdown on bitcoin gathers pace', 'Bitcoin ETF Proposals Withdrawn After SEC Pushback - CoinDesk', 'The Bitcoin Price Equivalence Shows What “Cheap” Cryptocurrencies Are Really Worth | Economics', 'Breakingviews - Chancellor: Bitcoin will never be real money', 'The tea company that planned to buy bitcoin mining machines is backpedaling on its plans', 'Bitcoin is Not a Currency, Bank of Israel Deputy Governor States', 'CES 2018: Kodak soars on KodakCoin and Bitcoin mining plans', \"JP Morgan's Jamie Dimon Regrets his ”Bitcoin is a Fraud ...\", \"Dimon Says He Regrets Calling Bitcoin a 'Fraud'\", 'Jamie Dimon says he regrets calling bitcoin a fraud and believes in the technology behind it', 'South Korea clampdown on bitcoin gathers pace', 'Bitcoin ETF Proposals Withdrawn After SEC Pushback - CoinDesk', 'The Bitcoin Price Equivalence Shows What “Cheap” Cryptocurrencies Are Really Worth | Economics', 'Breakingviews - Chancellor: Bitcoin will never be real money', 'The tea company that planned to buy bitcoin mining machines is backpedaling on its plans', 'Bitcoin is Not a Currency, Bank of Israel Deputy Governor States']\n",
      "01/10/2018\n",
      "['Goldman Sachs Caves: Bitcoin Is Money', 'Bitcoin has little shot at ever being a major global currency', 'Bitcoin skids on news South Korea prepares to ban cryptocurrency trade', 'Bitcoin energy demand in 2018 could match Argentina – Morgan Stanley', 'Microsoft Removes Bitcoin as Payment Option for Microsoft Store', 'A bitcoin bubble made in millennial heaven', 'Chinese bitcoin mining giant sets up Swiss subsidiary', 'Overstock and Coinbase briefly mixed up Bitcoin and Bitcoin Cash', 'Who Controls the @Bitcoin Twitter Account? | News', 'Miami Bitcoin Conference Stops Accepting Bitcoin Due to Fees and Congestion | News', 'Goldman Sachs Caves: Bitcoin Is Money', 'Bitcoin has little shot at ever being a major global currency', 'Bitcoin skids on news South Korea prepares to ban cryptocurrency trade', 'Bitcoin energy demand in 2018 could match Argentina – Morgan Stanley', 'Microsoft Removes Bitcoin as Payment Option for Microsoft Store', 'A bitcoin bubble made in millennial heaven', 'Chinese bitcoin mining giant sets up Swiss subsidiary', 'Overstock and Coinbase briefly mixed up Bitcoin and Bitcoin Cash', 'Who Controls the @Bitcoin Twitter Account? | News', 'Miami Bitcoin Conference Stops Accepting Bitcoin Due to Fees and Congestion | News']\n",
      "01/11/2018\n",
      "['South Korea considers Bitcoin trading ban', 'Bitcoin drops $2,000 in value as South Korea announces planned trading ban', 'S. Korea govt sends bitcoin on rollercoaster ride', 'No, Ripple Isn’t the Next Bitcoin', 'Despite Soaring Bitcoin Value, It’s Unclear How Many Millionaires Have Been Minted as a Result', 'US Marshals Plan to Auction $52M Worth of Seized Bitcoins | News', 'How a Bitcoin System Is Like and Unlike a Gold Standard', \"Warren Buffett watcher echoes warning on bitcoin: 'We're probably near the top of a bubble'\", 'Chinese bitcoin miners eye sites in energy-rich Canada', 'Kodak leads surge of companies exploiting bitcoin buzz', 'South Korea considers Bitcoin trading ban', 'Bitcoin drops $2,000 in value as South Korea announces planned trading ban', 'S. Korea govt sends bitcoin on rollercoaster ride', 'No, Ripple Isn’t the Next Bitcoin', 'Despite Soaring Bitcoin Value, It’s Unclear How Many Millionaires Have Been Minted as a Result', 'US Marshals Plan to Auction $52M Worth of Seized Bitcoins | News', 'How a Bitcoin System Is Like and Unlike a Gold Standard', \"Warren Buffett watcher echoes warning on bitcoin: 'We're probably near the top of a bubble'\", 'Chinese bitcoin miners eye sites in energy-rich Canada', 'Kodak leads surge of companies exploiting bitcoin buzz']\n",
      "01/12/2018\n"
     ]
    },
    {
     "ename": "KeyboardInterrupt",
     "evalue": "",
     "output_type": "error",
     "traceback": [
      "\u001b[0;31m---------------------------------------------------------------------------\u001b[0m",
      "\u001b[0;31mKeyboardInterrupt\u001b[0m                         Traceback (most recent call last)",
      "\u001b[0;32m<ipython-input-1-06a8b099e8e1>\u001b[0m in \u001b[0;36m<module>\u001b[0;34m\u001b[0m\n\u001b[1;32m     15\u001b[0m     \u001b[0mprint\u001b[0m\u001b[0;34m(\u001b[0m\u001b[0mdate3\u001b[0m\u001b[0;34m)\u001b[0m\u001b[0;34m\u001b[0m\u001b[0;34m\u001b[0m\u001b[0m\n\u001b[1;32m     16\u001b[0m     \u001b[0mgooglenews\u001b[0m\u001b[0;34m.\u001b[0m\u001b[0msetTimeRange\u001b[0m\u001b[0;34m(\u001b[0m\u001b[0mdate3\u001b[0m\u001b[0;34m,\u001b[0m\u001b[0mdate3\u001b[0m\u001b[0;34m)\u001b[0m   \u001b[0;31m#mm/dd/yyyy\u001b[0m\u001b[0;34m\u001b[0m\u001b[0;34m\u001b[0m\u001b[0m\n\u001b[0;32m---> 17\u001b[0;31m     \u001b[0mgooglenews\u001b[0m\u001b[0;34m.\u001b[0m\u001b[0msearch\u001b[0m\u001b[0;34m(\u001b[0m\u001b[0;34m'Bitcoin'\u001b[0m\u001b[0;34m)\u001b[0m\u001b[0;34m\u001b[0m\u001b[0;34m\u001b[0m\u001b[0m\n\u001b[0m\u001b[1;32m     18\u001b[0m     \u001b[0mgooglenews\u001b[0m\u001b[0;34m.\u001b[0m\u001b[0mgetpage\u001b[0m\u001b[0;34m(\u001b[0m\u001b[0;36m1\u001b[0m\u001b[0;34m)\u001b[0m\u001b[0;34m\u001b[0m\u001b[0;34m\u001b[0m\u001b[0m\n\u001b[1;32m     19\u001b[0m     \u001b[0mnews\u001b[0m\u001b[0;34m=\u001b[0m\u001b[0mgooglenews\u001b[0m\u001b[0;34m.\u001b[0m\u001b[0mgettext\u001b[0m\u001b[0;34m(\u001b[0m\u001b[0;34m)\u001b[0m\u001b[0;34m\u001b[0m\u001b[0;34m\u001b[0m\u001b[0m\n",
      "\u001b[0;32m~/anaconda3/lib/python3.8/site-packages/GoogleNews/__init__.py\u001b[0m in \u001b[0;36msearch\u001b[0;34m(self, key)\u001b[0m\n\u001b[1;32m     40\u001b[0m         \u001b[0;32mif\u001b[0m \u001b[0mself\u001b[0m\u001b[0;34m.\u001b[0m\u001b[0m__encode\u001b[0m \u001b[0;34m!=\u001b[0m \u001b[0;34m\"\"\u001b[0m\u001b[0;34m:\u001b[0m\u001b[0;34m\u001b[0m\u001b[0;34m\u001b[0m\u001b[0m\n\u001b[1;32m     41\u001b[0m             \u001b[0mself\u001b[0m\u001b[0;34m.\u001b[0m\u001b[0m__key\u001b[0m \u001b[0;34m=\u001b[0m \u001b[0murllib\u001b[0m\u001b[0;34m.\u001b[0m\u001b[0mrequest\u001b[0m\u001b[0;34m.\u001b[0m\u001b[0mquote\u001b[0m\u001b[0;34m(\u001b[0m\u001b[0mself\u001b[0m\u001b[0;34m.\u001b[0m\u001b[0m__key\u001b[0m\u001b[0;34m.\u001b[0m\u001b[0mencode\u001b[0m\u001b[0;34m(\u001b[0m\u001b[0mself\u001b[0m\u001b[0;34m.\u001b[0m\u001b[0m__encode\u001b[0m\u001b[0;34m)\u001b[0m\u001b[0;34m)\u001b[0m\u001b[0;34m\u001b[0m\u001b[0;34m\u001b[0m\u001b[0m\n\u001b[0;32m---> 42\u001b[0;31m         \u001b[0mself\u001b[0m\u001b[0;34m.\u001b[0m\u001b[0mgetpage\u001b[0m\u001b[0;34m(\u001b[0m\u001b[0;34m)\u001b[0m\u001b[0;34m\u001b[0m\u001b[0;34m\u001b[0m\u001b[0m\n\u001b[0m\u001b[1;32m     43\u001b[0m \u001b[0;34m\u001b[0m\u001b[0m\n\u001b[1;32m     44\u001b[0m     \u001b[0;32mdef\u001b[0m \u001b[0mgetpage\u001b[0m\u001b[0;34m(\u001b[0m\u001b[0mself\u001b[0m\u001b[0;34m,\u001b[0m \u001b[0mpage\u001b[0m\u001b[0;34m=\u001b[0m\u001b[0;36m1\u001b[0m\u001b[0;34m)\u001b[0m\u001b[0;34m:\u001b[0m\u001b[0;34m\u001b[0m\u001b[0;34m\u001b[0m\u001b[0m\n",
      "\u001b[0;32m~/anaconda3/lib/python3.8/site-packages/GoogleNews/__init__.py\u001b[0m in \u001b[0;36mgetpage\u001b[0;34m(self, page)\u001b[0m\n\u001b[1;32m     60\u001b[0m         \u001b[0;32mtry\u001b[0m\u001b[0;34m:\u001b[0m\u001b[0;34m\u001b[0m\u001b[0;34m\u001b[0m\u001b[0m\n\u001b[1;32m     61\u001b[0m             \u001b[0mself\u001b[0m\u001b[0;34m.\u001b[0m\u001b[0mreq\u001b[0m \u001b[0;34m=\u001b[0m \u001b[0murllib\u001b[0m\u001b[0;34m.\u001b[0m\u001b[0mrequest\u001b[0m\u001b[0;34m.\u001b[0m\u001b[0mRequest\u001b[0m\u001b[0;34m(\u001b[0m\u001b[0mself\u001b[0m\u001b[0;34m.\u001b[0m\u001b[0murl\u001b[0m\u001b[0;34m,\u001b[0m \u001b[0mheaders\u001b[0m\u001b[0;34m=\u001b[0m\u001b[0mself\u001b[0m\u001b[0;34m.\u001b[0m\u001b[0mheaders\u001b[0m\u001b[0;34m)\u001b[0m\u001b[0;34m\u001b[0m\u001b[0;34m\u001b[0m\u001b[0m\n\u001b[0;32m---> 62\u001b[0;31m             \u001b[0mself\u001b[0m\u001b[0;34m.\u001b[0m\u001b[0mresponse\u001b[0m \u001b[0;34m=\u001b[0m \u001b[0murllib\u001b[0m\u001b[0;34m.\u001b[0m\u001b[0mrequest\u001b[0m\u001b[0;34m.\u001b[0m\u001b[0murlopen\u001b[0m\u001b[0;34m(\u001b[0m\u001b[0mself\u001b[0m\u001b[0;34m.\u001b[0m\u001b[0mreq\u001b[0m\u001b[0;34m)\u001b[0m\u001b[0;34m\u001b[0m\u001b[0;34m\u001b[0m\u001b[0m\n\u001b[0m\u001b[1;32m     63\u001b[0m             \u001b[0mself\u001b[0m\u001b[0;34m.\u001b[0m\u001b[0mpage\u001b[0m \u001b[0;34m=\u001b[0m \u001b[0mself\u001b[0m\u001b[0;34m.\u001b[0m\u001b[0mresponse\u001b[0m\u001b[0;34m.\u001b[0m\u001b[0mread\u001b[0m\u001b[0;34m(\u001b[0m\u001b[0;34m)\u001b[0m\u001b[0;34m\u001b[0m\u001b[0;34m\u001b[0m\u001b[0m\n\u001b[1;32m     64\u001b[0m             \u001b[0mself\u001b[0m\u001b[0;34m.\u001b[0m\u001b[0mcontent\u001b[0m \u001b[0;34m=\u001b[0m \u001b[0mSoup\u001b[0m\u001b[0;34m(\u001b[0m\u001b[0mself\u001b[0m\u001b[0;34m.\u001b[0m\u001b[0mpage\u001b[0m\u001b[0;34m,\u001b[0m \u001b[0;34m\"html.parser\"\u001b[0m\u001b[0;34m)\u001b[0m\u001b[0;34m\u001b[0m\u001b[0;34m\u001b[0m\u001b[0m\n",
      "\u001b[0;32m~/anaconda3/lib/python3.8/urllib/request.py\u001b[0m in \u001b[0;36murlopen\u001b[0;34m(url, data, timeout, cafile, capath, cadefault, context)\u001b[0m\n\u001b[1;32m    220\u001b[0m     \u001b[0;32melse\u001b[0m\u001b[0;34m:\u001b[0m\u001b[0;34m\u001b[0m\u001b[0;34m\u001b[0m\u001b[0m\n\u001b[1;32m    221\u001b[0m         \u001b[0mopener\u001b[0m \u001b[0;34m=\u001b[0m \u001b[0m_opener\u001b[0m\u001b[0;34m\u001b[0m\u001b[0;34m\u001b[0m\u001b[0m\n\u001b[0;32m--> 222\u001b[0;31m     \u001b[0;32mreturn\u001b[0m \u001b[0mopener\u001b[0m\u001b[0;34m.\u001b[0m\u001b[0mopen\u001b[0m\u001b[0;34m(\u001b[0m\u001b[0murl\u001b[0m\u001b[0;34m,\u001b[0m \u001b[0mdata\u001b[0m\u001b[0;34m,\u001b[0m \u001b[0mtimeout\u001b[0m\u001b[0;34m)\u001b[0m\u001b[0;34m\u001b[0m\u001b[0;34m\u001b[0m\u001b[0m\n\u001b[0m\u001b[1;32m    223\u001b[0m \u001b[0;34m\u001b[0m\u001b[0m\n\u001b[1;32m    224\u001b[0m \u001b[0;32mdef\u001b[0m \u001b[0minstall_opener\u001b[0m\u001b[0;34m(\u001b[0m\u001b[0mopener\u001b[0m\u001b[0;34m)\u001b[0m\u001b[0;34m:\u001b[0m\u001b[0;34m\u001b[0m\u001b[0;34m\u001b[0m\u001b[0m\n",
      "\u001b[0;32m~/anaconda3/lib/python3.8/urllib/request.py\u001b[0m in \u001b[0;36mopen\u001b[0;34m(self, fullurl, data, timeout)\u001b[0m\n\u001b[1;32m    523\u001b[0m \u001b[0;34m\u001b[0m\u001b[0m\n\u001b[1;32m    524\u001b[0m         \u001b[0msys\u001b[0m\u001b[0;34m.\u001b[0m\u001b[0maudit\u001b[0m\u001b[0;34m(\u001b[0m\u001b[0;34m'urllib.Request'\u001b[0m\u001b[0;34m,\u001b[0m \u001b[0mreq\u001b[0m\u001b[0;34m.\u001b[0m\u001b[0mfull_url\u001b[0m\u001b[0;34m,\u001b[0m \u001b[0mreq\u001b[0m\u001b[0;34m.\u001b[0m\u001b[0mdata\u001b[0m\u001b[0;34m,\u001b[0m \u001b[0mreq\u001b[0m\u001b[0;34m.\u001b[0m\u001b[0mheaders\u001b[0m\u001b[0;34m,\u001b[0m \u001b[0mreq\u001b[0m\u001b[0;34m.\u001b[0m\u001b[0mget_method\u001b[0m\u001b[0;34m(\u001b[0m\u001b[0;34m)\u001b[0m\u001b[0;34m)\u001b[0m\u001b[0;34m\u001b[0m\u001b[0;34m\u001b[0m\u001b[0m\n\u001b[0;32m--> 525\u001b[0;31m         \u001b[0mresponse\u001b[0m \u001b[0;34m=\u001b[0m \u001b[0mself\u001b[0m\u001b[0;34m.\u001b[0m\u001b[0m_open\u001b[0m\u001b[0;34m(\u001b[0m\u001b[0mreq\u001b[0m\u001b[0;34m,\u001b[0m \u001b[0mdata\u001b[0m\u001b[0;34m)\u001b[0m\u001b[0;34m\u001b[0m\u001b[0;34m\u001b[0m\u001b[0m\n\u001b[0m\u001b[1;32m    526\u001b[0m \u001b[0;34m\u001b[0m\u001b[0m\n\u001b[1;32m    527\u001b[0m         \u001b[0;31m# post-process response\u001b[0m\u001b[0;34m\u001b[0m\u001b[0;34m\u001b[0m\u001b[0;34m\u001b[0m\u001b[0m\n",
      "\u001b[0;32m~/anaconda3/lib/python3.8/urllib/request.py\u001b[0m in \u001b[0;36m_open\u001b[0;34m(self, req, data)\u001b[0m\n\u001b[1;32m    540\u001b[0m \u001b[0;34m\u001b[0m\u001b[0m\n\u001b[1;32m    541\u001b[0m         \u001b[0mprotocol\u001b[0m \u001b[0;34m=\u001b[0m \u001b[0mreq\u001b[0m\u001b[0;34m.\u001b[0m\u001b[0mtype\u001b[0m\u001b[0;34m\u001b[0m\u001b[0;34m\u001b[0m\u001b[0m\n\u001b[0;32m--> 542\u001b[0;31m         result = self._call_chain(self.handle_open, protocol, protocol +\n\u001b[0m\u001b[1;32m    543\u001b[0m                                   '_open', req)\n\u001b[1;32m    544\u001b[0m         \u001b[0;32mif\u001b[0m \u001b[0mresult\u001b[0m\u001b[0;34m:\u001b[0m\u001b[0;34m\u001b[0m\u001b[0;34m\u001b[0m\u001b[0m\n",
      "\u001b[0;32m~/anaconda3/lib/python3.8/urllib/request.py\u001b[0m in \u001b[0;36m_call_chain\u001b[0;34m(self, chain, kind, meth_name, *args)\u001b[0m\n\u001b[1;32m    500\u001b[0m         \u001b[0;32mfor\u001b[0m \u001b[0mhandler\u001b[0m \u001b[0;32min\u001b[0m \u001b[0mhandlers\u001b[0m\u001b[0;34m:\u001b[0m\u001b[0;34m\u001b[0m\u001b[0;34m\u001b[0m\u001b[0m\n\u001b[1;32m    501\u001b[0m             \u001b[0mfunc\u001b[0m \u001b[0;34m=\u001b[0m \u001b[0mgetattr\u001b[0m\u001b[0;34m(\u001b[0m\u001b[0mhandler\u001b[0m\u001b[0;34m,\u001b[0m \u001b[0mmeth_name\u001b[0m\u001b[0;34m)\u001b[0m\u001b[0;34m\u001b[0m\u001b[0;34m\u001b[0m\u001b[0m\n\u001b[0;32m--> 502\u001b[0;31m             \u001b[0mresult\u001b[0m \u001b[0;34m=\u001b[0m \u001b[0mfunc\u001b[0m\u001b[0;34m(\u001b[0m\u001b[0;34m*\u001b[0m\u001b[0margs\u001b[0m\u001b[0;34m)\u001b[0m\u001b[0;34m\u001b[0m\u001b[0;34m\u001b[0m\u001b[0m\n\u001b[0m\u001b[1;32m    503\u001b[0m             \u001b[0;32mif\u001b[0m \u001b[0mresult\u001b[0m \u001b[0;32mis\u001b[0m \u001b[0;32mnot\u001b[0m \u001b[0;32mNone\u001b[0m\u001b[0;34m:\u001b[0m\u001b[0;34m\u001b[0m\u001b[0;34m\u001b[0m\u001b[0m\n\u001b[1;32m    504\u001b[0m                 \u001b[0;32mreturn\u001b[0m \u001b[0mresult\u001b[0m\u001b[0;34m\u001b[0m\u001b[0;34m\u001b[0m\u001b[0m\n",
      "\u001b[0;32m~/anaconda3/lib/python3.8/urllib/request.py\u001b[0m in \u001b[0;36mhttps_open\u001b[0;34m(self, req)\u001b[0m\n\u001b[1;32m   1391\u001b[0m \u001b[0;34m\u001b[0m\u001b[0m\n\u001b[1;32m   1392\u001b[0m         \u001b[0;32mdef\u001b[0m \u001b[0mhttps_open\u001b[0m\u001b[0;34m(\u001b[0m\u001b[0mself\u001b[0m\u001b[0;34m,\u001b[0m \u001b[0mreq\u001b[0m\u001b[0;34m)\u001b[0m\u001b[0;34m:\u001b[0m\u001b[0;34m\u001b[0m\u001b[0;34m\u001b[0m\u001b[0m\n\u001b[0;32m-> 1393\u001b[0;31m             return self.do_open(http.client.HTTPSConnection, req,\n\u001b[0m\u001b[1;32m   1394\u001b[0m                 context=self._context, check_hostname=self._check_hostname)\n\u001b[1;32m   1395\u001b[0m \u001b[0;34m\u001b[0m\u001b[0m\n",
      "\u001b[0;32m~/anaconda3/lib/python3.8/urllib/request.py\u001b[0m in \u001b[0;36mdo_open\u001b[0;34m(self, http_class, req, **http_conn_args)\u001b[0m\n\u001b[1;32m   1352\u001b[0m             \u001b[0;32mexcept\u001b[0m \u001b[0mOSError\u001b[0m \u001b[0;32mas\u001b[0m \u001b[0merr\u001b[0m\u001b[0;34m:\u001b[0m \u001b[0;31m# timeout error\u001b[0m\u001b[0;34m\u001b[0m\u001b[0;34m\u001b[0m\u001b[0m\n\u001b[1;32m   1353\u001b[0m                 \u001b[0;32mraise\u001b[0m \u001b[0mURLError\u001b[0m\u001b[0;34m(\u001b[0m\u001b[0merr\u001b[0m\u001b[0;34m)\u001b[0m\u001b[0;34m\u001b[0m\u001b[0;34m\u001b[0m\u001b[0m\n\u001b[0;32m-> 1354\u001b[0;31m             \u001b[0mr\u001b[0m \u001b[0;34m=\u001b[0m \u001b[0mh\u001b[0m\u001b[0;34m.\u001b[0m\u001b[0mgetresponse\u001b[0m\u001b[0;34m(\u001b[0m\u001b[0;34m)\u001b[0m\u001b[0;34m\u001b[0m\u001b[0;34m\u001b[0m\u001b[0m\n\u001b[0m\u001b[1;32m   1355\u001b[0m         \u001b[0;32mexcept\u001b[0m\u001b[0;34m:\u001b[0m\u001b[0;34m\u001b[0m\u001b[0;34m\u001b[0m\u001b[0m\n\u001b[1;32m   1356\u001b[0m             \u001b[0mh\u001b[0m\u001b[0;34m.\u001b[0m\u001b[0mclose\u001b[0m\u001b[0;34m(\u001b[0m\u001b[0;34m)\u001b[0m\u001b[0;34m\u001b[0m\u001b[0;34m\u001b[0m\u001b[0m\n",
      "\u001b[0;32m~/anaconda3/lib/python3.8/http/client.py\u001b[0m in \u001b[0;36mgetresponse\u001b[0;34m(self)\u001b[0m\n\u001b[1;32m   1330\u001b[0m         \u001b[0;32mtry\u001b[0m\u001b[0;34m:\u001b[0m\u001b[0;34m\u001b[0m\u001b[0;34m\u001b[0m\u001b[0m\n\u001b[1;32m   1331\u001b[0m             \u001b[0;32mtry\u001b[0m\u001b[0;34m:\u001b[0m\u001b[0;34m\u001b[0m\u001b[0;34m\u001b[0m\u001b[0m\n\u001b[0;32m-> 1332\u001b[0;31m                 \u001b[0mresponse\u001b[0m\u001b[0;34m.\u001b[0m\u001b[0mbegin\u001b[0m\u001b[0;34m(\u001b[0m\u001b[0;34m)\u001b[0m\u001b[0;34m\u001b[0m\u001b[0;34m\u001b[0m\u001b[0m\n\u001b[0m\u001b[1;32m   1333\u001b[0m             \u001b[0;32mexcept\u001b[0m \u001b[0mConnectionError\u001b[0m\u001b[0;34m:\u001b[0m\u001b[0;34m\u001b[0m\u001b[0;34m\u001b[0m\u001b[0m\n\u001b[1;32m   1334\u001b[0m                 \u001b[0mself\u001b[0m\u001b[0;34m.\u001b[0m\u001b[0mclose\u001b[0m\u001b[0;34m(\u001b[0m\u001b[0;34m)\u001b[0m\u001b[0;34m\u001b[0m\u001b[0;34m\u001b[0m\u001b[0m\n",
      "\u001b[0;32m~/anaconda3/lib/python3.8/http/client.py\u001b[0m in \u001b[0;36mbegin\u001b[0;34m(self)\u001b[0m\n\u001b[1;32m    301\u001b[0m         \u001b[0;31m# read until we get a non-100 response\u001b[0m\u001b[0;34m\u001b[0m\u001b[0;34m\u001b[0m\u001b[0;34m\u001b[0m\u001b[0m\n\u001b[1;32m    302\u001b[0m         \u001b[0;32mwhile\u001b[0m \u001b[0;32mTrue\u001b[0m\u001b[0;34m:\u001b[0m\u001b[0;34m\u001b[0m\u001b[0;34m\u001b[0m\u001b[0m\n\u001b[0;32m--> 303\u001b[0;31m             \u001b[0mversion\u001b[0m\u001b[0;34m,\u001b[0m \u001b[0mstatus\u001b[0m\u001b[0;34m,\u001b[0m \u001b[0mreason\u001b[0m \u001b[0;34m=\u001b[0m \u001b[0mself\u001b[0m\u001b[0;34m.\u001b[0m\u001b[0m_read_status\u001b[0m\u001b[0;34m(\u001b[0m\u001b[0;34m)\u001b[0m\u001b[0;34m\u001b[0m\u001b[0;34m\u001b[0m\u001b[0m\n\u001b[0m\u001b[1;32m    304\u001b[0m             \u001b[0;32mif\u001b[0m \u001b[0mstatus\u001b[0m \u001b[0;34m!=\u001b[0m \u001b[0mCONTINUE\u001b[0m\u001b[0;34m:\u001b[0m\u001b[0;34m\u001b[0m\u001b[0;34m\u001b[0m\u001b[0m\n\u001b[1;32m    305\u001b[0m                 \u001b[0;32mbreak\u001b[0m\u001b[0;34m\u001b[0m\u001b[0;34m\u001b[0m\u001b[0m\n",
      "\u001b[0;32m~/anaconda3/lib/python3.8/http/client.py\u001b[0m in \u001b[0;36m_read_status\u001b[0;34m(self)\u001b[0m\n\u001b[1;32m    262\u001b[0m \u001b[0;34m\u001b[0m\u001b[0m\n\u001b[1;32m    263\u001b[0m     \u001b[0;32mdef\u001b[0m \u001b[0m_read_status\u001b[0m\u001b[0;34m(\u001b[0m\u001b[0mself\u001b[0m\u001b[0;34m)\u001b[0m\u001b[0;34m:\u001b[0m\u001b[0;34m\u001b[0m\u001b[0;34m\u001b[0m\u001b[0m\n\u001b[0;32m--> 264\u001b[0;31m         \u001b[0mline\u001b[0m \u001b[0;34m=\u001b[0m \u001b[0mstr\u001b[0m\u001b[0;34m(\u001b[0m\u001b[0mself\u001b[0m\u001b[0;34m.\u001b[0m\u001b[0mfp\u001b[0m\u001b[0;34m.\u001b[0m\u001b[0mreadline\u001b[0m\u001b[0;34m(\u001b[0m\u001b[0m_MAXLINE\u001b[0m \u001b[0;34m+\u001b[0m \u001b[0;36m1\u001b[0m\u001b[0;34m)\u001b[0m\u001b[0;34m,\u001b[0m \u001b[0;34m\"iso-8859-1\"\u001b[0m\u001b[0;34m)\u001b[0m\u001b[0;34m\u001b[0m\u001b[0;34m\u001b[0m\u001b[0m\n\u001b[0m\u001b[1;32m    265\u001b[0m         \u001b[0;32mif\u001b[0m \u001b[0mlen\u001b[0m\u001b[0;34m(\u001b[0m\u001b[0mline\u001b[0m\u001b[0;34m)\u001b[0m \u001b[0;34m>\u001b[0m \u001b[0m_MAXLINE\u001b[0m\u001b[0;34m:\u001b[0m\u001b[0;34m\u001b[0m\u001b[0;34m\u001b[0m\u001b[0m\n\u001b[1;32m    266\u001b[0m             \u001b[0;32mraise\u001b[0m \u001b[0mLineTooLong\u001b[0m\u001b[0;34m(\u001b[0m\u001b[0;34m\"status line\"\u001b[0m\u001b[0;34m)\u001b[0m\u001b[0;34m\u001b[0m\u001b[0;34m\u001b[0m\u001b[0m\n",
      "\u001b[0;32m~/anaconda3/lib/python3.8/socket.py\u001b[0m in \u001b[0;36mreadinto\u001b[0;34m(self, b)\u001b[0m\n\u001b[1;32m    667\u001b[0m         \u001b[0;32mwhile\u001b[0m \u001b[0;32mTrue\u001b[0m\u001b[0;34m:\u001b[0m\u001b[0;34m\u001b[0m\u001b[0;34m\u001b[0m\u001b[0m\n\u001b[1;32m    668\u001b[0m             \u001b[0;32mtry\u001b[0m\u001b[0;34m:\u001b[0m\u001b[0;34m\u001b[0m\u001b[0;34m\u001b[0m\u001b[0m\n\u001b[0;32m--> 669\u001b[0;31m                 \u001b[0;32mreturn\u001b[0m \u001b[0mself\u001b[0m\u001b[0;34m.\u001b[0m\u001b[0m_sock\u001b[0m\u001b[0;34m.\u001b[0m\u001b[0mrecv_into\u001b[0m\u001b[0;34m(\u001b[0m\u001b[0mb\u001b[0m\u001b[0;34m)\u001b[0m\u001b[0;34m\u001b[0m\u001b[0;34m\u001b[0m\u001b[0m\n\u001b[0m\u001b[1;32m    670\u001b[0m             \u001b[0;32mexcept\u001b[0m \u001b[0mtimeout\u001b[0m\u001b[0;34m:\u001b[0m\u001b[0;34m\u001b[0m\u001b[0;34m\u001b[0m\u001b[0m\n\u001b[1;32m    671\u001b[0m                 \u001b[0mself\u001b[0m\u001b[0;34m.\u001b[0m\u001b[0m_timeout_occurred\u001b[0m \u001b[0;34m=\u001b[0m \u001b[0;32mTrue\u001b[0m\u001b[0;34m\u001b[0m\u001b[0;34m\u001b[0m\u001b[0m\n",
      "\u001b[0;32m~/anaconda3/lib/python3.8/ssl.py\u001b[0m in \u001b[0;36mrecv_into\u001b[0;34m(self, buffer, nbytes, flags)\u001b[0m\n\u001b[1;32m   1239\u001b[0m                   \u001b[0;34m\"non-zero flags not allowed in calls to recv_into() on %s\"\u001b[0m \u001b[0;34m%\u001b[0m\u001b[0;34m\u001b[0m\u001b[0;34m\u001b[0m\u001b[0m\n\u001b[1;32m   1240\u001b[0m                   self.__class__)\n\u001b[0;32m-> 1241\u001b[0;31m             \u001b[0;32mreturn\u001b[0m \u001b[0mself\u001b[0m\u001b[0;34m.\u001b[0m\u001b[0mread\u001b[0m\u001b[0;34m(\u001b[0m\u001b[0mnbytes\u001b[0m\u001b[0;34m,\u001b[0m \u001b[0mbuffer\u001b[0m\u001b[0;34m)\u001b[0m\u001b[0;34m\u001b[0m\u001b[0;34m\u001b[0m\u001b[0m\n\u001b[0m\u001b[1;32m   1242\u001b[0m         \u001b[0;32melse\u001b[0m\u001b[0;34m:\u001b[0m\u001b[0;34m\u001b[0m\u001b[0;34m\u001b[0m\u001b[0m\n\u001b[1;32m   1243\u001b[0m             \u001b[0;32mreturn\u001b[0m \u001b[0msuper\u001b[0m\u001b[0;34m(\u001b[0m\u001b[0;34m)\u001b[0m\u001b[0;34m.\u001b[0m\u001b[0mrecv_into\u001b[0m\u001b[0;34m(\u001b[0m\u001b[0mbuffer\u001b[0m\u001b[0;34m,\u001b[0m \u001b[0mnbytes\u001b[0m\u001b[0;34m,\u001b[0m \u001b[0mflags\u001b[0m\u001b[0;34m)\u001b[0m\u001b[0;34m\u001b[0m\u001b[0;34m\u001b[0m\u001b[0m\n",
      "\u001b[0;32m~/anaconda3/lib/python3.8/ssl.py\u001b[0m in \u001b[0;36mread\u001b[0;34m(self, len, buffer)\u001b[0m\n\u001b[1;32m   1097\u001b[0m         \u001b[0;32mtry\u001b[0m\u001b[0;34m:\u001b[0m\u001b[0;34m\u001b[0m\u001b[0;34m\u001b[0m\u001b[0m\n\u001b[1;32m   1098\u001b[0m             \u001b[0;32mif\u001b[0m \u001b[0mbuffer\u001b[0m \u001b[0;32mis\u001b[0m \u001b[0;32mnot\u001b[0m \u001b[0;32mNone\u001b[0m\u001b[0;34m:\u001b[0m\u001b[0;34m\u001b[0m\u001b[0;34m\u001b[0m\u001b[0m\n\u001b[0;32m-> 1099\u001b[0;31m                 \u001b[0;32mreturn\u001b[0m \u001b[0mself\u001b[0m\u001b[0;34m.\u001b[0m\u001b[0m_sslobj\u001b[0m\u001b[0;34m.\u001b[0m\u001b[0mread\u001b[0m\u001b[0;34m(\u001b[0m\u001b[0mlen\u001b[0m\u001b[0;34m,\u001b[0m \u001b[0mbuffer\u001b[0m\u001b[0;34m)\u001b[0m\u001b[0;34m\u001b[0m\u001b[0;34m\u001b[0m\u001b[0m\n\u001b[0m\u001b[1;32m   1100\u001b[0m             \u001b[0;32melse\u001b[0m\u001b[0;34m:\u001b[0m\u001b[0;34m\u001b[0m\u001b[0;34m\u001b[0m\u001b[0m\n\u001b[1;32m   1101\u001b[0m                 \u001b[0;32mreturn\u001b[0m \u001b[0mself\u001b[0m\u001b[0;34m.\u001b[0m\u001b[0m_sslobj\u001b[0m\u001b[0;34m.\u001b[0m\u001b[0mread\u001b[0m\u001b[0;34m(\u001b[0m\u001b[0mlen\u001b[0m\u001b[0;34m)\u001b[0m\u001b[0;34m\u001b[0m\u001b[0;34m\u001b[0m\u001b[0m\n",
      "\u001b[0;31mKeyboardInterrupt\u001b[0m: "
     ]
    }
   ],
   "source": [
    "# Script to download the google news:\n",
    "\n",
    "from GoogleNews import GoogleNews, AutoTokenizer, AutoModel\n",
    "from datetime import timedelta, date\n",
    "googlenews = GoogleNews()\n",
    "googlenews = GoogleNews(lang='en')\n",
    "\n",
    "\n",
    "def daterange(start_date, end_date):\n",
    "    for n in range(int((end_date - start_date).days)):\n",
    "        yield start_date + timedelta(n)\n",
    "\n",
    "start_date = date(2018, 1, 1)\n",
    "end_date = date(2020, 8, 1)\n",
    "for single_date in daterange(start_date, end_date):\n",
    "    date3 = single_date.strftime(\"%m/%d/%Y\")\n",
    "    print(date3)\n",
    "    googlenews.setTimeRange(date3,date3)   #mm/dd/yyyy\n",
    "    googlenews.search('Bitcoin')\n",
    "    googlenews.getpage(1)\n",
    "    news=googlenews.gettext()\n",
    "    print(news)\n",
    "    googlenews.clear()\n",
    "    with open('out_news2.txt', 'a') as f:  #I put the \"2\" to not erase the file if we execute this\n",
    "        print(date3,news, file=f)\n",
    "    "
   ]
  },
  {
   "cell_type": "code",
   "execution_count": 1,
   "metadata": {},
   "outputs": [
    {
     "name": "stdout",
     "output_type": "stream",
     "text": [
      "             Date                                                New\n",
      "0      01/01/2018  Japan's GDP Grows Due to Bitcoin Wealth Effect...\n",
      "1      01/01/2018  Q&A: How is the growth of bitcoin affecting th...\n",
      "2      01/01/2018  Bitcoin fever to burn out in ‘spectacular cras...\n",
      "3      01/01/2018  'Privacy Coin' Verge is Allegedly Leaking User...\n",
      "4      01/01/2018           Buying—and Selling—Property with Bitcoin\n",
      "...           ...                                                ...\n",
      "18558  07/31/2020  Bitcoin: Analysts warn of correction, $11,700 ...\n",
      "18559  07/31/2020  Market Wrap: Bitcoin Pushes to $11,450, DeFi V...\n",
      "18560  07/31/2020  Chinese Police Take Down $6 Billion Plustoken ...\n",
      "18561  07/31/2020  Bitcoin Trading Is Booming in Uncertain Russia...\n",
      "18562  07/31/2020          ‘Get out of paper money and into bitcoin’\n",
      "\n",
      "[18563 rows x 2 columns]\n"
     ]
    }
   ],
   "source": [
    "# Script to set the google news list in the right format:\n",
    "\n",
    "import ast\n",
    "import pandas as pd\n",
    "\n",
    "\n",
    "dates = []\n",
    "news = []\n",
    "lines = []\n",
    "\n",
    "# Read file lines\n",
    "with open('out_news.txt', 'r') as f:\n",
    "    lines = f.readlines()\n",
    "\n",
    "for l in lines:\n",
    "    # Spliting date and news\n",
    "    date_string, news_string = l.split(' ', maxsplit=1)\n",
    "    # Safely evaluate news list\n",
    "    news_list = ast.literal_eval(news_string)\n",
    "    # Extend date the amount of news in that date\n",
    "    dates.extend([date_string] * len(news_list))\n",
    "    # Append news\n",
    "    news.extend(news_list)\n",
    "\n",
    "# Create dataframe for the dates and news\n",
    "df = pd.DataFrame({'Date': dates, 'New': news})\n",
    "\n",
    "# Print the dataframe\n",
    "print(df)"
   ]
  },
  {
   "cell_type": "code",
   "execution_count": null,
   "metadata": {},
   "outputs": [],
   "source": [
    "# Writting the news to a csv file:\n",
    "\n",
    "df.to_csv ('googlenews.csv', index = False, header=True)"
   ]
  },
  {
   "cell_type": "code",
   "execution_count": 3,
   "metadata": {},
   "outputs": [],
   "source": [
    "# We define the model to get the sentiment\n",
    "\n",
    "from datetime import timedelta, date\n",
    "from GoogleNews import GoogleNews\n",
    "from transformers import pipeline, AutoTokenizer, AutoModel\n",
    "\n",
    "\n",
    "df['New'] = df['New'].astype('str') \n",
    "tokenizer2 = AutoTokenizer.from_pretrained(\"nlptown/bert-base-multilingual-uncased-sentiment\")\n",
    "labels = ['buy','sell']"
   ]
  },
  {
   "cell_type": "code",
   "execution_count": 4,
   "metadata": {},
   "outputs": [],
   "source": [
    "classifier = pipeline('zero-shot-classification',model=\"nlptown/bert-base-multilingual-uncased-sentiment\",tokenizer=tokenizer2)"
   ]
  },
  {
   "cell_type": "code",
   "execution_count": null,
   "metadata": {},
   "outputs": [],
   "source": [
    "# We start to calculate the sentiment and we drop it on a file\n",
    "\n",
    "for i in range (1,len(df)):\n",
    "          \n",
    "    with open('out_news_sentiment2.txt', 'a') as f:     #I put the \"2\" to not erase the file if we execute this\n",
    "        \n",
    "        print(df.iloc[i,0],df.iloc[i,1],classifier(df.iloc[i,1], labels), file=f)"
   ]
  },
  {
   "cell_type": "code",
   "execution_count": 122,
   "metadata": {},
   "outputs": [
    {
     "data": {
      "text/html": [
       "<div>\n",
       "<style scoped>\n",
       "    .dataframe tbody tr th:only-of-type {\n",
       "        vertical-align: middle;\n",
       "    }\n",
       "\n",
       "    .dataframe tbody tr th {\n",
       "        vertical-align: top;\n",
       "    }\n",
       "\n",
       "    .dataframe thead th {\n",
       "        text-align: right;\n",
       "    }\n",
       "</style>\n",
       "<table border=\"1\" class=\"dataframe\">\n",
       "  <thead>\n",
       "    <tr style=\"text-align: right;\">\n",
       "      <th></th>\n",
       "      <th>Date</th>\n",
       "      <th>New</th>\n",
       "      <th>Buy</th>\n",
       "      <th>Sell</th>\n",
       "    </tr>\n",
       "  </thead>\n",
       "  <tbody>\n",
       "    <tr>\n",
       "      <th>0</th>\n",
       "      <td>2018-01-01</td>\n",
       "      <td>Q&amp;A: How is the growth of bitcoin affecting th...</td>\n",
       "      <td>0.626632</td>\n",
       "      <td>0.373368</td>\n",
       "    </tr>\n",
       "    <tr>\n",
       "      <th>1</th>\n",
       "      <td>2018-01-01</td>\n",
       "      <td>Bitcoin fever to burn out in ‘spectacular cras...</td>\n",
       "      <td>0.520645</td>\n",
       "      <td>0.479355</td>\n",
       "    </tr>\n",
       "    <tr>\n",
       "      <th>2</th>\n",
       "      <td>2018-01-01</td>\n",
       "      <td>'Privacy Coin' Verge is Allegedly Leaking User...</td>\n",
       "      <td>0.524635</td>\n",
       "      <td>0.475365</td>\n",
       "    </tr>\n",
       "    <tr>\n",
       "      <th>3</th>\n",
       "      <td>2018-01-01</td>\n",
       "      <td>Buying—and Selling—Property with Bitcoin</td>\n",
       "      <td>0.628039</td>\n",
       "      <td>0.371961</td>\n",
       "    </tr>\n",
       "    <tr>\n",
       "      <th>4</th>\n",
       "      <td>2018-01-01</td>\n",
       "      <td>Ripple was the best-performing cryptocurrency ...</td>\n",
       "      <td>0.566184</td>\n",
       "      <td>0.433816</td>\n",
       "    </tr>\n",
       "  </tbody>\n",
       "</table>\n",
       "</div>"
      ],
      "text/plain": [
       "        Date                                                New       Buy  \\\n",
       "0 2018-01-01  Q&A: How is the growth of bitcoin affecting th...  0.626632   \n",
       "1 2018-01-01  Bitcoin fever to burn out in ‘spectacular cras...  0.520645   \n",
       "2 2018-01-01  'Privacy Coin' Verge is Allegedly Leaking User...  0.524635   \n",
       "3 2018-01-01           Buying—and Selling—Property with Bitcoin  0.628039   \n",
       "4 2018-01-01  Ripple was the best-performing cryptocurrency ...  0.566184   \n",
       "\n",
       "       Sell  \n",
       "0  0.373368  \n",
       "1  0.479355  \n",
       "2  0.475365  \n",
       "3  0.371961  \n",
       "4  0.433816  "
      ]
     },
     "execution_count": 122,
     "metadata": {},
     "output_type": "execute_result"
    }
   ],
   "source": [
    "# Feature engineering over the text with the sentiment:\n",
    "\n",
    "\n",
    "data = pd.read_csv('out_news_sentiment.txt',\n",
    "                   sep=\" {'sequence': | 'scores':\",\n",
    "                   header=None,\n",
    "                   engine='python')\n",
    "\n",
    "data['Date']=data[0]\n",
    "data['New']=data[1]\n",
    "data['Sentiment']=data[2]\n",
    "\n",
    "data=data.drop([0,1,2], axis=1)\n",
    "\n",
    "data['New']=data['New'].str.slice(1, -29)\n",
    "\n",
    "data['Sentiment']=data['Sentiment'].str.slice(2,-2)\n",
    "data[['Buy', 'Sell']] = data['Sentiment'].str.split(', ', n=1, expand=True)\n",
    "data=data.drop(['Sentiment'], axis=1)\n",
    "data['Date'] = pd.to_datetime(data['Date'],format=\"%m/%d/%Y\")\n",
    "data['Buy'] = pd.to_numeric(data['Buy'])\n",
    "data['Sell'] = pd.to_numeric(data['Sell'])\n",
    "data.head()\n",
    "\n",
    "\n"
   ]
  },
  {
   "cell_type": "code",
   "execution_count": 123,
   "metadata": {},
   "outputs": [
    {
     "name": "stdout",
     "output_type": "stream",
     "text": [
      "<class 'pandas.core.frame.DataFrame'>\n",
      "RangeIndex: 18562 entries, 0 to 18561\n",
      "Data columns (total 4 columns):\n",
      " #   Column  Non-Null Count  Dtype         \n",
      "---  ------  --------------  -----         \n",
      " 0   Date    18562 non-null  datetime64[ns]\n",
      " 1   New     18562 non-null  object        \n",
      " 2   Buy     18562 non-null  float64       \n",
      " 3   Sell    18562 non-null  float64       \n",
      "dtypes: datetime64[ns](1), float64(2), object(1)\n",
      "memory usage: 580.2+ KB\n"
     ]
    }
   ],
   "source": [
    "data.info()"
   ]
  },
  {
   "cell_type": "code",
   "execution_count": 124,
   "metadata": {},
   "outputs": [
    {
     "data": {
      "text/plain": [
       "(18562, 4)"
      ]
     },
     "execution_count": 124,
     "metadata": {},
     "output_type": "execute_result"
    }
   ],
   "source": [
    "data.shape"
   ]
  },
  {
   "cell_type": "code",
   "execution_count": 125,
   "metadata": {},
   "outputs": [],
   "source": [
    "data_mean_buy = data['Buy'].groupby([data['Date'].dt.year, data['Date'].dt.month]).mean()\n",
    "data_mean_sell = data['Sell'].groupby([data['Date'].dt.year, data['Date'].dt.month]).mean()"
   ]
  },
  {
   "cell_type": "code",
   "execution_count": 126,
   "metadata": {},
   "outputs": [
    {
     "data": {
      "text/plain": [
       "Date  Date\n",
       "2018  1       0.567840\n",
       "      2       0.571816\n",
       "      3       0.569291\n",
       "      4       0.567131\n",
       "      5       0.573572\n",
       "      6       0.573041\n",
       "      7       0.572795\n",
       "      8       0.574623\n",
       "      9       0.574812\n",
       "      10      0.576961\n",
       "      11      0.566538\n",
       "      12      0.574100\n",
       "2019  1       0.568907\n",
       "      2       0.580169\n",
       "      3       0.575164\n",
       "      4       0.573195\n",
       "      5       0.576646\n",
       "      6       0.575009\n",
       "      7       0.570079\n",
       "      8       0.574261\n",
       "      9       0.573758\n",
       "      10      0.571170\n",
       "      11      0.570507\n",
       "      12      0.574129\n",
       "2020  1       0.572034\n",
       "      2       0.566059\n",
       "      3       0.566690\n",
       "      4       0.568151\n",
       "      5       0.568148\n",
       "      6       0.565075\n",
       "      7       0.561992\n",
       "Name: Buy, dtype: float64"
      ]
     },
     "execution_count": 126,
     "metadata": {},
     "output_type": "execute_result"
    }
   ],
   "source": [
    "data_mean_buy "
   ]
  },
  {
   "cell_type": "code",
   "execution_count": 127,
   "metadata": {},
   "outputs": [
    {
     "data": {
      "text/plain": [
       "Date  Date\n",
       "2018  1       0.432160\n",
       "      2       0.428184\n",
       "      3       0.430709\n",
       "      4       0.432869\n",
       "      5       0.426428\n",
       "      6       0.426959\n",
       "      7       0.427205\n",
       "      8       0.425377\n",
       "      9       0.425188\n",
       "      10      0.423039\n",
       "      11      0.433462\n",
       "      12      0.425900\n",
       "2019  1       0.431093\n",
       "      2       0.419831\n",
       "      3       0.424836\n",
       "      4       0.426805\n",
       "      5       0.423354\n",
       "      6       0.424991\n",
       "      7       0.429921\n",
       "      8       0.425739\n",
       "      9       0.426242\n",
       "      10      0.428830\n",
       "      11      0.429493\n",
       "      12      0.425871\n",
       "2020  1       0.427966\n",
       "      2       0.433941\n",
       "      3       0.433310\n",
       "      4       0.431849\n",
       "      5       0.431852\n",
       "      6       0.434925\n",
       "      7       0.438008\n",
       "Name: Sell, dtype: float64"
      ]
     },
     "execution_count": 127,
     "metadata": {},
     "output_type": "execute_result"
    }
   ],
   "source": [
    "data_mean_sell"
   ]
  },
  {
   "cell_type": "code",
   "execution_count": null,
   "metadata": {},
   "outputs": [],
   "source": []
  },
  {
   "cell_type": "markdown",
   "metadata": {},
   "source": [
    "THE ZERO-SHOT CLASSIFICATION MODEL WITH THE LABELS \"BUY\" OR \"SELL\" DOES NOT SEEM TO WORK. WE WILL TRY THE SAME PROCESS USING A 5 STARS CLASSIFICATION MODEL"
   ]
  },
  {
   "cell_type": "code",
   "execution_count": 134,
   "metadata": {},
   "outputs": [],
   "source": [
    "from transformers import AutoTokenizer, AutoModelForSequenceClassification\n",
    "from transformers import pipeline, AutoTokenizer, AutoModel\n",
    "\n",
    "tokenizer = AutoTokenizer.from_pretrained(\"nlptown/bert-base-multilingual-uncased-sentiment\")\n",
    "\n",
    "model = AutoModelForSequenceClassification.from_pretrained(\"nlptown/bert-base-multilingual-uncased-sentiment\")\n",
    "\n",
    "classifier = pipeline(task=\"sentiment-analysis\", model=model,tokenizer=tokenizer, return_all_scores=True)"
   ]
  },
  {
   "cell_type": "code",
   "execution_count": 135,
   "metadata": {},
   "outputs": [
    {
     "name": "stdout",
     "output_type": "stream",
     "text": [
      "             Date                                                New\n",
      "0      01/01/2018  Japan's GDP Grows Due to Bitcoin Wealth Effect...\n",
      "1      01/01/2018  Q&A: How is the growth of bitcoin affecting th...\n",
      "2      01/01/2018  Bitcoin fever to burn out in ‘spectacular cras...\n",
      "3      01/01/2018  'Privacy Coin' Verge is Allegedly Leaking User...\n",
      "4      01/01/2018           Buying—and Selling—Property with Bitcoin\n",
      "...           ...                                                ...\n",
      "18558  07/31/2020  Bitcoin: Analysts warn of correction, $11,700 ...\n",
      "18559  07/31/2020  Market Wrap: Bitcoin Pushes to $11,450, DeFi V...\n",
      "18560  07/31/2020  Chinese Police Take Down $6 Billion Plustoken ...\n",
      "18561  07/31/2020  Bitcoin Trading Is Booming in Uncertain Russia...\n",
      "18562  07/31/2020          ‘Get out of paper money and into bitcoin’\n",
      "\n",
      "[18563 rows x 2 columns]\n"
     ]
    }
   ],
   "source": [
    "# Script to set the google news list in the right format:\n",
    "\n",
    "import ast\n",
    "import pandas as pd\n",
    "\n",
    "\n",
    "dates = []\n",
    "news = []\n",
    "lines = []\n",
    "\n",
    "# Read file lines\n",
    "with open('out_news.txt', 'r') as f:\n",
    "    lines = f.readlines()\n",
    "\n",
    "for l in lines:\n",
    "    # Spliting date and news\n",
    "    date_string, news_string = l.split(' ', maxsplit=1)\n",
    "    # Safely evaluate news list\n",
    "    news_list = ast.literal_eval(news_string)\n",
    "    # Extend date the amount of news in that date\n",
    "    dates.extend([date_string] * len(news_list))\n",
    "    # Append news\n",
    "    news.extend(news_list)\n",
    "\n",
    "# Create dataframe for the dates and news\n",
    "df = pd.DataFrame({'Date': dates, 'New': news})\n",
    "\n",
    "# Print the dataframe\n",
    "print(df)"
   ]
  },
  {
   "cell_type": "code",
   "execution_count": null,
   "metadata": {},
   "outputs": [],
   "source": [
    "# We start to calculate the sentiment and we drop it on a file\n",
    "\n",
    "for i in range (1,len(df)):\n",
    "          \n",
    "    with open('out_news_sentiment_googlenews.txt2', 'a') as f:     #I put the \"2\" to not erase the file if we execute this\n",
    "        \n",
    "        print(df.iloc[i,0],df.iloc[i,1],classifier(df.iloc[i,1]), file=f)"
   ]
  },
  {
   "cell_type": "code",
   "execution_count": null,
   "metadata": {},
   "outputs": [],
   "source": []
  }
 ],
 "metadata": {
  "kernelspec": {
   "display_name": "Python 3",
   "language": "python",
   "name": "python3"
  },
  "language_info": {
   "codemirror_mode": {
    "name": "ipython",
    "version": 3
   },
   "file_extension": ".py",
   "mimetype": "text/x-python",
   "name": "python",
   "nbconvert_exporter": "python",
   "pygments_lexer": "ipython3",
   "version": "3.8.3"
  }
 },
 "nbformat": 4,
 "nbformat_minor": 2
}
