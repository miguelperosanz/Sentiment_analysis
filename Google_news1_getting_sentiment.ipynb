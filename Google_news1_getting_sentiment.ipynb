{
 "cells": [
  {
   "cell_type": "code",
   "execution_count": null,
   "metadata": {},
   "outputs": [],
   "source": [
    "# Script to download the google news:\n",
    "\n",
    "from GoogleNews import GoogleNews, AutoTokenizer, AutoModel\n",
    "from datetime import timedelta, date\n",
    "googlenews = GoogleNews()\n",
    "googlenews = GoogleNews(lang='en')\n",
    "\n",
    "\n",
    "def daterange(start_date, end_date):\n",
    "    for n in range(int((end_date - start_date).days)):\n",
    "        yield start_date + timedelta(n)\n",
    "\n",
    "start_date = date(2018, 1, 1)\n",
    "end_date = date(2020, 8, 1)\n",
    "for single_date in daterange(start_date, end_date):\n",
    "    date3 = single_date.strftime(\"%m/%d/%Y\")\n",
    "    print(date3)\n",
    "    googlenews.setTimeRange(date3,date3)   #mm/dd/yyyy\n",
    "    googlenews.search('Bitcoin')\n",
    "    googlenews.getpage(1)\n",
    "    news=googlenews.gettext()\n",
    "    print(news)\n",
    "    googlenews.clear()\n",
    "    with open('out_news2.txt', 'a') as f:  #I put the \"2\" to not erase the file if we execute this\n",
    "        print(date3,news, file=f)"
   ]
  },
  {
   "cell_type": "code",
   "execution_count": 1,
   "metadata": {},
   "outputs": [
    {
     "name": "stdout",
     "output_type": "stream",
     "text": [
      "             Date                                                New\n",
      "0      01/01/2018  Japan's GDP Grows Due to Bitcoin Wealth Effect...\n",
      "1      01/01/2018  Q&A: How is the growth of bitcoin affecting th...\n",
      "2      01/01/2018  Bitcoin fever to burn out in ‘spectacular cras...\n",
      "3      01/01/2018  'Privacy Coin' Verge is Allegedly Leaking User...\n",
      "4      01/01/2018           Buying—and Selling—Property with Bitcoin\n",
      "...           ...                                                ...\n",
      "18558  07/31/2020  Bitcoin: Analysts warn of correction, $11,700 ...\n",
      "18559  07/31/2020  Market Wrap: Bitcoin Pushes to $11,450, DeFi V...\n",
      "18560  07/31/2020  Chinese Police Take Down $6 Billion Plustoken ...\n",
      "18561  07/31/2020  Bitcoin Trading Is Booming in Uncertain Russia...\n",
      "18562  07/31/2020          ‘Get out of paper money and into bitcoin’\n",
      "\n",
      "[18563 rows x 2 columns]\n"
     ]
    }
   ],
   "source": [
    "# Script to set the google news list in the right format:\n",
    "\n",
    "import ast\n",
    "import pandas as pd\n",
    "\n",
    "\n",
    "dates = []\n",
    "news = []\n",
    "lines = []\n",
    "\n",
    "# Read file lines\n",
    "with open('out_news.txt', 'r') as f:\n",
    "    lines = f.readlines()\n",
    "\n",
    "for l in lines:\n",
    "    # Spliting date and news\n",
    "    date_string, news_string = l.split(' ', maxsplit=1)\n",
    "    # Safely evaluate news list\n",
    "    news_list = ast.literal_eval(news_string)\n",
    "    # Extend date the amount of news in that date\n",
    "    dates.extend([date_string] * len(news_list))\n",
    "    # Append news\n",
    "    news.extend(news_list)\n",
    "\n",
    "# Create dataframe for the dates and news\n",
    "df = pd.DataFrame({'Date': dates, 'New': news})\n",
    "\n",
    "# Print the dataframe\n",
    "print(df)"
   ]
  },
  {
   "cell_type": "code",
   "execution_count": null,
   "metadata": {},
   "outputs": [],
   "source": [
    "# Writting the news to a csv file:\n",
    "\n",
    "df.to_csv ('googlenews.csv', index = False, header=True)"
   ]
  },
  {
   "cell_type": "code",
   "execution_count": 3,
   "metadata": {},
   "outputs": [],
   "source": [
    "# We define the model to get the sentiment\n",
    "\n",
    "from datetime import timedelta, date\n",
    "from GoogleNews import GoogleNews\n",
    "from transformers import pipeline, AutoTokenizer, AutoModel\n",
    "\n",
    "\n",
    "df['New'] = df['New'].astype('str') \n",
    "tokenizer2 = AutoTokenizer.from_pretrained(\"nlptown/bert-base-multilingual-uncased-sentiment\")\n",
    "labels = ['buy','sell']"
   ]
  },
  {
   "cell_type": "code",
   "execution_count": 4,
   "metadata": {},
   "outputs": [],
   "source": [
    "classifier = pipeline('zero-shot-classification',model=\"nlptown/bert-base-multilingual-uncased-sentiment\",tokenizer=tokenizer2)"
   ]
  },
  {
   "cell_type": "code",
   "execution_count": null,
   "metadata": {},
   "outputs": [],
   "source": [
    "# We start to calculate the sentiment and we drop it on a file\n",
    "\n",
    "for i in range (1,len(df)):\n",
    "          \n",
    "    with open('out_news_sentiment2.txt', 'a') as f:     #I put the \"2\" to not erase the file if we execute this\n",
    "        \n",
    "        print(df.iloc[i,0],df.iloc[i,1],classifier(df.iloc[i,1], labels), file=f)"
   ]
  },
  {
   "cell_type": "code",
   "execution_count": 122,
   "metadata": {},
   "outputs": [
    {
     "data": {
      "text/html": [
       "<div>\n",
       "<style scoped>\n",
       "    .dataframe tbody tr th:only-of-type {\n",
       "        vertical-align: middle;\n",
       "    }\n",
       "\n",
       "    .dataframe tbody tr th {\n",
       "        vertical-align: top;\n",
       "    }\n",
       "\n",
       "    .dataframe thead th {\n",
       "        text-align: right;\n",
       "    }\n",
       "</style>\n",
       "<table border=\"1\" class=\"dataframe\">\n",
       "  <thead>\n",
       "    <tr style=\"text-align: right;\">\n",
       "      <th></th>\n",
       "      <th>Date</th>\n",
       "      <th>New</th>\n",
       "      <th>Buy</th>\n",
       "      <th>Sell</th>\n",
       "    </tr>\n",
       "  </thead>\n",
       "  <tbody>\n",
       "    <tr>\n",
       "      <th>0</th>\n",
       "      <td>2018-01-01</td>\n",
       "      <td>Q&amp;A: How is the growth of bitcoin affecting th...</td>\n",
       "      <td>0.626632</td>\n",
       "      <td>0.373368</td>\n",
       "    </tr>\n",
       "    <tr>\n",
       "      <th>1</th>\n",
       "      <td>2018-01-01</td>\n",
       "      <td>Bitcoin fever to burn out in ‘spectacular cras...</td>\n",
       "      <td>0.520645</td>\n",
       "      <td>0.479355</td>\n",
       "    </tr>\n",
       "    <tr>\n",
       "      <th>2</th>\n",
       "      <td>2018-01-01</td>\n",
       "      <td>'Privacy Coin' Verge is Allegedly Leaking User...</td>\n",
       "      <td>0.524635</td>\n",
       "      <td>0.475365</td>\n",
       "    </tr>\n",
       "    <tr>\n",
       "      <th>3</th>\n",
       "      <td>2018-01-01</td>\n",
       "      <td>Buying—and Selling—Property with Bitcoin</td>\n",
       "      <td>0.628039</td>\n",
       "      <td>0.371961</td>\n",
       "    </tr>\n",
       "    <tr>\n",
       "      <th>4</th>\n",
       "      <td>2018-01-01</td>\n",
       "      <td>Ripple was the best-performing cryptocurrency ...</td>\n",
       "      <td>0.566184</td>\n",
       "      <td>0.433816</td>\n",
       "    </tr>\n",
       "  </tbody>\n",
       "</table>\n",
       "</div>"
      ],
      "text/plain": [
       "        Date                                                New       Buy  \\\n",
       "0 2018-01-01  Q&A: How is the growth of bitcoin affecting th...  0.626632   \n",
       "1 2018-01-01  Bitcoin fever to burn out in ‘spectacular cras...  0.520645   \n",
       "2 2018-01-01  'Privacy Coin' Verge is Allegedly Leaking User...  0.524635   \n",
       "3 2018-01-01           Buying—and Selling—Property with Bitcoin  0.628039   \n",
       "4 2018-01-01  Ripple was the best-performing cryptocurrency ...  0.566184   \n",
       "\n",
       "       Sell  \n",
       "0  0.373368  \n",
       "1  0.479355  \n",
       "2  0.475365  \n",
       "3  0.371961  \n",
       "4  0.433816  "
      ]
     },
     "execution_count": 122,
     "metadata": {},
     "output_type": "execute_result"
    }
   ],
   "source": [
    "# Feature engineering over the text with the sentiment:\n",
    "\n",
    "\n",
    "data = pd.read_csv('out_news_sentiment.txt',\n",
    "                   sep=\" {'sequence': | 'scores':\",\n",
    "                   header=None,\n",
    "                   engine='python')\n",
    "\n",
    "data['Date']=data[0]\n",
    "data['New']=data[1]\n",
    "data['Sentiment']=data[2]\n",
    "\n",
    "data=data.drop([0,1,2], axis=1)\n",
    "\n",
    "data['New']=data['New'].str.slice(1, -29)\n",
    "\n",
    "data['Sentiment']=data['Sentiment'].str.slice(2,-2)\n",
    "data[['Buy', 'Sell']] = data['Sentiment'].str.split(', ', n=1, expand=True)\n",
    "data=data.drop(['Sentiment'], axis=1)\n",
    "data['Date'] = pd.to_datetime(data['Date'],format=\"%m/%d/%Y\")\n",
    "data['Buy'] = pd.to_numeric(data['Buy'])\n",
    "data['Sell'] = pd.to_numeric(data['Sell'])\n",
    "data.head()\n",
    "\n",
    "\n"
   ]
  },
  {
   "cell_type": "code",
   "execution_count": 123,
   "metadata": {},
   "outputs": [
    {
     "name": "stdout",
     "output_type": "stream",
     "text": [
      "<class 'pandas.core.frame.DataFrame'>\n",
      "RangeIndex: 18562 entries, 0 to 18561\n",
      "Data columns (total 4 columns):\n",
      " #   Column  Non-Null Count  Dtype         \n",
      "---  ------  --------------  -----         \n",
      " 0   Date    18562 non-null  datetime64[ns]\n",
      " 1   New     18562 non-null  object        \n",
      " 2   Buy     18562 non-null  float64       \n",
      " 3   Sell    18562 non-null  float64       \n",
      "dtypes: datetime64[ns](1), float64(2), object(1)\n",
      "memory usage: 580.2+ KB\n"
     ]
    }
   ],
   "source": [
    "data.info()"
   ]
  },
  {
   "cell_type": "code",
   "execution_count": 124,
   "metadata": {},
   "outputs": [
    {
     "data": {
      "text/plain": [
       "(18562, 4)"
      ]
     },
     "execution_count": 124,
     "metadata": {},
     "output_type": "execute_result"
    }
   ],
   "source": [
    "data.shape"
   ]
  },
  {
   "cell_type": "code",
   "execution_count": 125,
   "metadata": {},
   "outputs": [],
   "source": [
    "data_mean_buy = data['Buy'].groupby([data['Date'].dt.year, data['Date'].dt.month]).mean()\n",
    "data_mean_sell = data['Sell'].groupby([data['Date'].dt.year, data['Date'].dt.month]).mean()"
   ]
  },
  {
   "cell_type": "code",
   "execution_count": 126,
   "metadata": {},
   "outputs": [
    {
     "data": {
      "text/plain": [
       "Date  Date\n",
       "2018  1       0.567840\n",
       "      2       0.571816\n",
       "      3       0.569291\n",
       "      4       0.567131\n",
       "      5       0.573572\n",
       "      6       0.573041\n",
       "      7       0.572795\n",
       "      8       0.574623\n",
       "      9       0.574812\n",
       "      10      0.576961\n",
       "      11      0.566538\n",
       "      12      0.574100\n",
       "2019  1       0.568907\n",
       "      2       0.580169\n",
       "      3       0.575164\n",
       "      4       0.573195\n",
       "      5       0.576646\n",
       "      6       0.575009\n",
       "      7       0.570079\n",
       "      8       0.574261\n",
       "      9       0.573758\n",
       "      10      0.571170\n",
       "      11      0.570507\n",
       "      12      0.574129\n",
       "2020  1       0.572034\n",
       "      2       0.566059\n",
       "      3       0.566690\n",
       "      4       0.568151\n",
       "      5       0.568148\n",
       "      6       0.565075\n",
       "      7       0.561992\n",
       "Name: Buy, dtype: float64"
      ]
     },
     "execution_count": 126,
     "metadata": {},
     "output_type": "execute_result"
    }
   ],
   "source": [
    "data_mean_buy "
   ]
  },
  {
   "cell_type": "code",
   "execution_count": 127,
   "metadata": {},
   "outputs": [
    {
     "data": {
      "text/plain": [
       "Date  Date\n",
       "2018  1       0.432160\n",
       "      2       0.428184\n",
       "      3       0.430709\n",
       "      4       0.432869\n",
       "      5       0.426428\n",
       "      6       0.426959\n",
       "      7       0.427205\n",
       "      8       0.425377\n",
       "      9       0.425188\n",
       "      10      0.423039\n",
       "      11      0.433462\n",
       "      12      0.425900\n",
       "2019  1       0.431093\n",
       "      2       0.419831\n",
       "      3       0.424836\n",
       "      4       0.426805\n",
       "      5       0.423354\n",
       "      6       0.424991\n",
       "      7       0.429921\n",
       "      8       0.425739\n",
       "      9       0.426242\n",
       "      10      0.428830\n",
       "      11      0.429493\n",
       "      12      0.425871\n",
       "2020  1       0.427966\n",
       "      2       0.433941\n",
       "      3       0.433310\n",
       "      4       0.431849\n",
       "      5       0.431852\n",
       "      6       0.434925\n",
       "      7       0.438008\n",
       "Name: Sell, dtype: float64"
      ]
     },
     "execution_count": 127,
     "metadata": {},
     "output_type": "execute_result"
    }
   ],
   "source": [
    "data_mean_sell"
   ]
  },
  {
   "cell_type": "code",
   "execution_count": null,
   "metadata": {},
   "outputs": [],
   "source": []
  },
  {
   "cell_type": "markdown",
   "metadata": {},
   "source": [
    "THE ZERO-SHOT CLASSIFICATION MODEL WITH THE LABELS \"BUY\" OR \"SELL\" DOES NOT SEEM TO WORK. WE WILL TRY THE SAME PROCESS USING A 5 STARS CLASSIFICATION MODEL"
   ]
  },
  {
   "cell_type": "code",
   "execution_count": 41,
   "metadata": {},
   "outputs": [],
   "source": [
    "from transformers import AutoTokenizer, AutoModelForSequenceClassification\n",
    "from transformers import pipeline, AutoTokenizer, AutoModel\n",
    "\n",
    "tokenizer = AutoTokenizer.from_pretrained(\"nlptown/bert-base-multilingual-uncased-sentiment\")\n",
    "\n",
    "model = AutoModelForSequenceClassification.from_pretrained(\"nlptown/bert-base-multilingual-uncased-sentiment\")\n",
    "\n",
    "classifier = pipeline(task=\"sentiment-analysis\", model=model,tokenizer=tokenizer, return_all_scores=True)"
   ]
  },
  {
   "cell_type": "code",
   "execution_count": 60,
   "metadata": {},
   "outputs": [
    {
     "name": "stdout",
     "output_type": "stream",
     "text": [
      "             Date                                                New\n",
      "0      01/01/2018  Japan's GDP Grows Due to Bitcoin Wealth Effect...\n",
      "1      01/01/2018  Q&A: How is the growth of bitcoin affecting th...\n",
      "2      01/01/2018  Bitcoin fever to burn out in ‘spectacular cras...\n",
      "3      01/01/2018  'Privacy Coin' Verge is Allegedly Leaking User...\n",
      "4      01/01/2018           Buying—and Selling—Property with Bitcoin\n",
      "...           ...                                                ...\n",
      "18558  07/31/2020  Bitcoin: Analysts warn of correction, $11,700 ...\n",
      "18559  07/31/2020  Market Wrap: Bitcoin Pushes to $11,450, DeFi V...\n",
      "18560  07/31/2020  Chinese Police Take Down $6 Billion Plustoken ...\n",
      "18561  07/31/2020  Bitcoin Trading Is Booming in Uncertain Russia...\n",
      "18562  07/31/2020          ‘Get out of paper money and into bitcoin’\n",
      "\n",
      "[18563 rows x 2 columns]\n"
     ]
    }
   ],
   "source": [
    "# Script to set the google news list in the right format:\n",
    "\n",
    "import ast\n",
    "import pandas as pd\n",
    "\n",
    "\n",
    "dates = []\n",
    "news = []\n",
    "lines = []\n",
    "\n",
    "# Read file lines\n",
    "with open('out_news.txt', 'r') as f:\n",
    "    lines = f.readlines()\n",
    "\n",
    "for l in lines:\n",
    "    # Spliting date and news\n",
    "    date_string, news_string = l.split(' ', maxsplit=1)\n",
    "    # Safely evaluate news list\n",
    "    news_list = ast.literal_eval(news_string)\n",
    "    # Extend date the amount of news in that date\n",
    "    dates.extend([date_string] * len(news_list))\n",
    "    # Append news\n",
    "    news.extend(news_list)\n",
    "\n",
    "# Create dataframe for the dates and news\n",
    "df = pd.DataFrame({'Date': dates, 'New': news})\n",
    "\n",
    "# Print the dataframe\n",
    "print(df)"
   ]
  },
  {
   "cell_type": "code",
   "execution_count": null,
   "metadata": {},
   "outputs": [],
   "source": [
    "# We start to calculate the sentiment and we drop it on a file\n",
    "\n",
    "for i in range (1,len(df)):\n",
    "          \n",
    "    with open('out_news_sentiment_googlenews33.txt', 'a') as f:     #I put the \"2\" to not erase the file if we execute this\n",
    "        \n",
    "        print(df.iloc[i,0],';;;;',df.iloc[i,1],';;;;',classifier(df.iloc[i,1]), file=f)"
   ]
  },
  {
   "cell_type": "code",
   "execution_count": 393,
   "metadata": {},
   "outputs": [],
   "source": [
    "data = pd.read_csv('out_news_sentiment_googlenews33.txt',\n",
    "                   sep=\";;;;\",\n",
    "                   header=None,\n",
    "                   engine='python')"
   ]
  },
  {
   "cell_type": "code",
   "execution_count": 394,
   "metadata": {
    "scrolled": true
   },
   "outputs": [
    {
     "data": {
      "text/html": [
       "<div>\n",
       "<style scoped>\n",
       "    .dataframe tbody tr th:only-of-type {\n",
       "        vertical-align: middle;\n",
       "    }\n",
       "\n",
       "    .dataframe tbody tr th {\n",
       "        vertical-align: top;\n",
       "    }\n",
       "\n",
       "    .dataframe thead th {\n",
       "        text-align: right;\n",
       "    }\n",
       "</style>\n",
       "<table border=\"1\" class=\"dataframe\">\n",
       "  <thead>\n",
       "    <tr style=\"text-align: right;\">\n",
       "      <th></th>\n",
       "      <th>0</th>\n",
       "      <th>1</th>\n",
       "      <th>2</th>\n",
       "    </tr>\n",
       "  </thead>\n",
       "  <tbody>\n",
       "    <tr>\n",
       "      <th>0</th>\n",
       "      <td>01/01/2018</td>\n",
       "      <td>Q&amp;A: How is the growth of bitcoin affecting t...</td>\n",
       "      <td>[[{'label': '1 star', 'score': 0.135978832840...</td>\n",
       "    </tr>\n",
       "    <tr>\n",
       "      <th>1</th>\n",
       "      <td>01/01/2018</td>\n",
       "      <td>Bitcoin fever to burn out in ‘spectacular cra...</td>\n",
       "      <td>[[{'label': '1 star', 'score': 0.612485110759...</td>\n",
       "    </tr>\n",
       "    <tr>\n",
       "      <th>2</th>\n",
       "      <td>01/01/2018</td>\n",
       "      <td>'Privacy Coin' Verge is Allegedly Leaking Use...</td>\n",
       "      <td>[[{'label': '1 star', 'score': 0.703961968421...</td>\n",
       "    </tr>\n",
       "    <tr>\n",
       "      <th>3</th>\n",
       "      <td>01/01/2018</td>\n",
       "      <td>Buying—and Selling—Property with Bitcoin</td>\n",
       "      <td>[[{'label': '1 star', 'score': 0.213439643383...</td>\n",
       "    </tr>\n",
       "    <tr>\n",
       "      <th>4</th>\n",
       "      <td>01/01/2018</td>\n",
       "      <td>Ripple was the best-performing cryptocurrency...</td>\n",
       "      <td>[[{'label': '1 star', 'score': 0.040555119514...</td>\n",
       "    </tr>\n",
       "  </tbody>\n",
       "</table>\n",
       "</div>"
      ],
      "text/plain": [
       "             0                                                  1  \\\n",
       "0  01/01/2018    Q&A: How is the growth of bitcoin affecting t...   \n",
       "1  01/01/2018    Bitcoin fever to burn out in ‘spectacular cra...   \n",
       "2  01/01/2018    'Privacy Coin' Verge is Allegedly Leaking Use...   \n",
       "3  01/01/2018           Buying—and Selling—Property with Bitcoin    \n",
       "4  01/01/2018    Ripple was the best-performing cryptocurrency...   \n",
       "\n",
       "                                                   2  \n",
       "0   [[{'label': '1 star', 'score': 0.135978832840...  \n",
       "1   [[{'label': '1 star', 'score': 0.612485110759...  \n",
       "2   [[{'label': '1 star', 'score': 0.703961968421...  \n",
       "3   [[{'label': '1 star', 'score': 0.213439643383...  \n",
       "4   [[{'label': '1 star', 'score': 0.040555119514...  "
      ]
     },
     "execution_count": 394,
     "metadata": {},
     "output_type": "execute_result"
    }
   ],
   "source": [
    "data.head()"
   ]
  },
  {
   "cell_type": "code",
   "execution_count": 395,
   "metadata": {},
   "outputs": [],
   "source": [
    "data['Date']=data[0]\n",
    "data['New']=data[1]\n",
    "data['Sentiment']=data[2]\n",
    "data=data.drop([0,1,2], axis=1)\n",
    "\n",
    "\n",
    "data['start_1stars'] = data['Sentiment'].str.find(\"'1 star', 'score': \") + len(\"'1 star', 'score': \")\n",
    "data['end_1stars'] = data['Sentiment'].str.find(\"}, {'label': '2 stars'\")\n",
    "data['1_stars']= data.apply(lambda x: x['Sentiment'][slice(x['start_1stars'], x['end_1stars'])], axis=1)\n",
    "data['1_stars']= data.apply(lambda x: x['Sentiment'][slice(x['start_1stars'], x['end_1stars'])], axis=1)\n",
    "data['1_stars'] = data['1_stars'].astype('float64') \n",
    "data['1_stars'] = round(data['1_stars'],2)\n",
    "data=data.drop(['start_1stars','end_1stars'], axis=1)\n",
    "\n",
    "\n",
    "\n",
    "data['start_2stars'] = data['Sentiment'].str.find(\"'2 stars', 'score': \") + len(\"'2 stars', 'score': \")\n",
    "data['end_2stars'] = data['Sentiment'].str.find(\"}, {'label': '3 stars'\")\n",
    "data['2_stars']= data.apply(lambda x: x['Sentiment'][slice(x['start_2stars'], x['end_2stars'])], axis=1)\n",
    "data['2_stars'] = data['2_stars'].astype('float64') \n",
    "data['2_stars'] = round(data['2_stars'],2)\n",
    "data=data.drop(['start_2stars','end_2stars'], axis=1)\n",
    "\n",
    "\n",
    "data['start_3stars'] = data['Sentiment'].str.find(\"'3 stars', 'score': \") + len(\"'3 stars', 'score': \")\n",
    "data['end_3stars'] = data['Sentiment'].str.find(\"}, {'label': '4 stars'\")\n",
    "data['3_stars']= data.apply(lambda x: x['Sentiment'][slice(x['start_3stars'], x['end_3stars'])], axis=1)\n",
    "data['3_stars'] = data['3_stars'].astype('float64') \n",
    "data['3_stars'] = round(data['3_stars'],2)\n",
    "data=data.drop(['start_3stars','end_3stars'], axis=1)\n",
    "\n",
    "data['start_4stars'] = data['Sentiment'].str.find(\"'4 stars', 'score': \") + len(\"'4 stars', 'score': \")\n",
    "data['end_4stars'] = data['Sentiment'].str.find(\"}, {'label': '5 stars'\")\n",
    "data['4_stars']= data.apply(lambda x: x['Sentiment'][slice(x['start_4stars'], x['end_4stars'])], axis=1)\n",
    "data['4_stars'] = data['4_stars'].astype('float64') \n",
    "data['4_stars'] = round(data['4_stars'],2)\n",
    "data=data.drop(['start_4stars','end_4stars'], axis=1)\n",
    "\n",
    "data['start_5stars'] = data['Sentiment'].str.find(\"'5 stars', 'score': \") + len(\"'5 stars', 'score': \")\n",
    "data['end_5stars'] = data['Sentiment'].str.find(\"}]]\")\n",
    "data['5_stars']= data.apply(lambda x: x['Sentiment'][slice(x['start_5stars'], x['end_5stars'])], axis=1)\n",
    "data['5_stars'] = data['5_stars'].astype('float64') \n",
    "data['5_stars'] = round(data['5_stars'],2)\n",
    "data=data.drop(['start_5stars','end_5stars'], axis=1)\n",
    "\n",
    "data=data.drop(['Sentiment'], axis=1)\n",
    "data['Date'] = pd.to_datetime(data['Date'],format=\"%d/%m/%Y \")\n",
    "data['New'] = data['New'].astype('str') \n",
    "\n"
   ]
  },
  {
   "cell_type": "code",
   "execution_count": 398,
   "metadata": {},
   "outputs": [
    {
     "data": {
      "text/html": [
       "<div>\n",
       "<style scoped>\n",
       "    .dataframe tbody tr th:only-of-type {\n",
       "        vertical-align: middle;\n",
       "    }\n",
       "\n",
       "    .dataframe tbody tr th {\n",
       "        vertical-align: top;\n",
       "    }\n",
       "\n",
       "    .dataframe thead th {\n",
       "        text-align: right;\n",
       "    }\n",
       "</style>\n",
       "<table border=\"1\" class=\"dataframe\">\n",
       "  <thead>\n",
       "    <tr style=\"text-align: right;\">\n",
       "      <th></th>\n",
       "      <th>Date</th>\n",
       "      <th>New</th>\n",
       "      <th>1_stars</th>\n",
       "      <th>2_stars</th>\n",
       "      <th>3_stars</th>\n",
       "      <th>4_stars</th>\n",
       "      <th>5_stars</th>\n",
       "    </tr>\n",
       "  </thead>\n",
       "  <tbody>\n",
       "    <tr>\n",
       "      <th>0</th>\n",
       "      <td>2018-01-01</td>\n",
       "      <td>Q&amp;A: How is the growth of bitcoin affecting t...</td>\n",
       "      <td>0.14</td>\n",
       "      <td>0.17</td>\n",
       "      <td>0.23</td>\n",
       "      <td>0.24</td>\n",
       "      <td>0.23</td>\n",
       "    </tr>\n",
       "    <tr>\n",
       "      <th>1</th>\n",
       "      <td>2018-01-01</td>\n",
       "      <td>Bitcoin fever to burn out in ‘spectacular cra...</td>\n",
       "      <td>0.61</td>\n",
       "      <td>0.19</td>\n",
       "      <td>0.08</td>\n",
       "      <td>0.06</td>\n",
       "      <td>0.06</td>\n",
       "    </tr>\n",
       "    <tr>\n",
       "      <th>2</th>\n",
       "      <td>2018-01-01</td>\n",
       "      <td>'Privacy Coin' Verge is Allegedly Leaking Use...</td>\n",
       "      <td>0.70</td>\n",
       "      <td>0.19</td>\n",
       "      <td>0.08</td>\n",
       "      <td>0.02</td>\n",
       "      <td>0.01</td>\n",
       "    </tr>\n",
       "    <tr>\n",
       "      <th>3</th>\n",
       "      <td>2018-01-01</td>\n",
       "      <td>Buying—and Selling—Property with Bitcoin</td>\n",
       "      <td>0.21</td>\n",
       "      <td>0.09</td>\n",
       "      <td>0.13</td>\n",
       "      <td>0.20</td>\n",
       "      <td>0.37</td>\n",
       "    </tr>\n",
       "    <tr>\n",
       "      <th>4</th>\n",
       "      <td>2018-01-01</td>\n",
       "      <td>Ripple was the best-performing cryptocurrency...</td>\n",
       "      <td>0.04</td>\n",
       "      <td>0.03</td>\n",
       "      <td>0.05</td>\n",
       "      <td>0.16</td>\n",
       "      <td>0.72</td>\n",
       "    </tr>\n",
       "  </tbody>\n",
       "</table>\n",
       "</div>"
      ],
      "text/plain": [
       "        Date                                                New  1_stars  \\\n",
       "0 2018-01-01   Q&A: How is the growth of bitcoin affecting t...     0.14   \n",
       "1 2018-01-01   Bitcoin fever to burn out in ‘spectacular cra...     0.61   \n",
       "2 2018-01-01   'Privacy Coin' Verge is Allegedly Leaking Use...     0.70   \n",
       "3 2018-01-01          Buying—and Selling—Property with Bitcoin      0.21   \n",
       "4 2018-01-01   Ripple was the best-performing cryptocurrency...     0.04   \n",
       "\n",
       "   2_stars  3_stars  4_stars  5_stars  \n",
       "0     0.17     0.23     0.24     0.23  \n",
       "1     0.19     0.08     0.06     0.06  \n",
       "2     0.19     0.08     0.02     0.01  \n",
       "3     0.09     0.13     0.20     0.37  \n",
       "4     0.03     0.05     0.16     0.72  "
      ]
     },
     "execution_count": 398,
     "metadata": {},
     "output_type": "execute_result"
    }
   ],
   "source": [
    "data.head()"
   ]
  },
  {
   "cell_type": "code",
   "execution_count": null,
   "metadata": {},
   "outputs": [],
   "source": []
  }
 ],
 "metadata": {
  "kernelspec": {
   "display_name": "Python 3",
   "language": "python",
   "name": "python3"
  },
  "language_info": {
   "codemirror_mode": {
    "name": "ipython",
    "version": 3
   },
   "file_extension": ".py",
   "mimetype": "text/x-python",
   "name": "python",
   "nbconvert_exporter": "python",
   "pygments_lexer": "ipython3",
   "version": "3.8.3"
  }
 },
 "nbformat": 4,
 "nbformat_minor": 2
}
